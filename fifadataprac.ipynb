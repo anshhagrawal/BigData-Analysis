{
 "cells": [
  {
   "cell_type": "code",
   "execution_count": 1,
   "id": "096ea259",
   "metadata": {},
   "outputs": [],
   "source": [
    "import pandas as pd\n",
    "from matplotlib import pyplot as plt"
   ]
  },
  {
   "cell_type": "code",
   "execution_count": 2,
   "id": "1ea99217",
   "metadata": {},
   "outputs": [],
   "source": [
    "fifa = pd.read_csv('fifadata.csv')"
   ]
  },
  {
   "cell_type": "code",
   "execution_count": 3,
   "id": "a3e82f8a",
   "metadata": {},
   "outputs": [
    {
     "data": {
      "text/plain": [
       "England                1667\n",
       "Germany                1216\n",
       "Spain                  1035\n",
       "France                  984\n",
       "Argentina               886\n",
       "                       ... \n",
       "Liberia                   1\n",
       "São Tomé & Príncipe       1\n",
       "Puerto Rico               1\n",
       "Bahrain                   1\n",
       "Indonesia                 1\n",
       "Name: nationality, Length: 162, dtype: int64"
      ]
     },
     "execution_count": 3,
     "metadata": {},
     "output_type": "execute_result"
    }
   ],
   "source": [
    "fifa['nationality'].value_counts()"
   ]
  },
  {
   "cell_type": "code",
   "execution_count": 4,
   "id": "a7145808",
   "metadata": {},
   "outputs": [
    {
     "data": {
      "text/plain": [
       "Index(['England', 'Germany', 'Spain', 'France', 'Argentina'], dtype='object')"
      ]
     },
     "execution_count": 4,
     "metadata": {},
     "output_type": "execute_result"
    }
   ],
   "source": [
    "fifa['nationality'].value_counts()[0:5].keys()"
   ]
  },
  {
   "cell_type": "code",
   "execution_count": 5,
   "id": "b6fdff4f",
   "metadata": {},
   "outputs": [
    {
     "data": {
      "image/png": "[encoded data removed]",
      "text/plain": [
       "<Figure size 576x432 with 1 Axes>"
      ]
     },
     "metadata": {
      "needs_background": "light"
     },
     "output_type": "display_data"
    }
   ],
   "source": [
    "plt.figure(figsize=(8,6))\n",
    "plt.bar(list(fifa['nationality'].value_counts()[0:5].keys()),list(fifa['nationality'].value_counts()[0:5]),color=\"c\")\n",
    "plt.show()        "
   ]
  },
  {
   "cell_type": "code",
   "execution_count": 6,
   "id": "534a06b2",
   "metadata": {},
   "outputs": [],
   "source": [
    "player_salary = fifa[['short_name','wage_eur']]"
   ]
  },
  {
   "cell_type": "code",
   "execution_count": 7,
   "id": "1c76ee0d",
   "metadata": {},
   "outputs": [
    {
     "data": {
      "text/html": [
       "<div>\n",
       "<style scoped>\n",
       "    .dataframe tbody tr th:only-of-type {\n",
       "        vertical-align: middle;\n",
       "    }\n",
       "\n",
       "    .dataframe tbody tr th {\n",
       "        vertical-align: top;\n",
       "    }\n",
       "\n",
       "    .dataframe thead th {\n",
       "        text-align: right;\n",
       "    }\n",
       "</style>\n",
       "<table border=\"1\" class=\"dataframe\">\n",
       "  <thead>\n",
       "    <tr style=\"text-align: right;\">\n",
       "      <th></th>\n",
       "      <th>short_name</th>\n",
       "      <th>wage_eur</th>\n",
       "    </tr>\n",
       "  </thead>\n",
       "  <tbody>\n",
       "    <tr>\n",
       "      <th>0</th>\n",
       "      <td>L. Messi</td>\n",
       "      <td>565000</td>\n",
       "    </tr>\n",
       "    <tr>\n",
       "      <th>4</th>\n",
       "      <td>E. Hazard</td>\n",
       "      <td>470000</td>\n",
       "    </tr>\n",
       "    <tr>\n",
       "      <th>1</th>\n",
       "      <td>Cristiano Ronaldo</td>\n",
       "      <td>405000</td>\n",
       "    </tr>\n",
       "    <tr>\n",
       "      <th>5</th>\n",
       "      <td>K. De Bruyne</td>\n",
       "      <td>370000</td>\n",
       "    </tr>\n",
       "    <tr>\n",
       "      <th>22</th>\n",
       "      <td>A. Griezmann</td>\n",
       "      <td>370000</td>\n",
       "    </tr>\n",
       "  </tbody>\n",
       "</table>\n",
       "</div>"
      ],
      "text/plain": [
       "           short_name  wage_eur\n",
       "0            L. Messi    565000\n",
       "4           E. Hazard    470000\n",
       "1   Cristiano Ronaldo    405000\n",
       "5        K. De Bruyne    370000\n",
       "22       A. Griezmann    370000"
      ]
     },
     "execution_count": 7,
     "metadata": {},
     "output_type": "execute_result"
    }
   ],
   "source": [
    "player_salary=player_salary.sort_values(by=['wage_eur'],ascending=False)\n",
    "player_salary.head()"
   ]
  },
  {
   "cell_type": "code",
   "execution_count": 8,
   "id": "000aa159",
   "metadata": {},
   "outputs": [
    {
     "data": {
      "image/png": "[encoded data removed]",
      "text/plain": [
       "<Figure size 576x360 with 1 Axes>"
      ]
     },
     "metadata": {
      "needs_background": "light"
     },
     "output_type": "display_data"
    }
   ],
   "source": [
    "plt.figure(figsize=(8,5))\n",
    "plt.bar(list(player_salary['short_name'])[0:5],list(player_salary['wage_eur'])[0:5],color=[\"blue\",\"green\",\"red\",\"pink\",\"orange\"])\n",
    "plt.show()"
   ]
  },
  {
   "cell_type": "code",
   "execution_count": 9,
   "id": "efbbb0ef",
   "metadata": {},
   "outputs": [
    {
     "data": {
      "text/plain": [
       "0        False\n",
       "1        False\n",
       "2        False\n",
       "3        False\n",
       "4        False\n",
       "         ...  \n",
       "18273    False\n",
       "18274    False\n",
       "18275    False\n",
       "18276    False\n",
       "18277    False\n",
       "Name: nationality, Length: 18278, dtype: bool"
      ]
     },
     "execution_count": 9,
     "metadata": {},
     "output_type": "execute_result"
    }
   ],
   "source": [
    "fifa['nationality']=='England'"
   ]
  },
  {
   "cell_type": "code",
   "execution_count": 10,
   "id": "5273f3df",
   "metadata": {},
   "outputs": [
    {
     "data": {
      "text/html": [
       "<div>\n",
       "<style scoped>\n",
       "    .dataframe tbody tr th:only-of-type {\n",
       "        vertical-align: middle;\n",
       "    }\n",
       "\n",
       "    .dataframe tbody tr th {\n",
       "        vertical-align: top;\n",
       "    }\n",
       "\n",
       "    .dataframe thead th {\n",
       "        text-align: right;\n",
       "    }\n",
       "</style>\n",
       "<table border=\"1\" class=\"dataframe\">\n",
       "  <thead>\n",
       "    <tr style=\"text-align: right;\">\n",
       "      <th></th>\n",
       "      <th>sofifa_id</th>\n",
       "      <th>player_url</th>\n",
       "      <th>short_name</th>\n",
       "      <th>long_name</th>\n",
       "      <th>age</th>\n",
       "      <th>dob</th>\n",
       "      <th>height_cm</th>\n",
       "      <th>weight_kg</th>\n",
       "      <th>nationality</th>\n",
       "      <th>club</th>\n",
       "      <th>...</th>\n",
       "      <th>lwb</th>\n",
       "      <th>ldm</th>\n",
       "      <th>cdm</th>\n",
       "      <th>rdm</th>\n",
       "      <th>rwb</th>\n",
       "      <th>lb</th>\n",
       "      <th>lcb</th>\n",
       "      <th>cb</th>\n",
       "      <th>rcb</th>\n",
       "      <th>rb</th>\n",
       "    </tr>\n",
       "  </thead>\n",
       "  <tbody>\n",
       "    <tr>\n",
       "      <th>12808</th>\n",
       "      <td>215408</td>\n",
       "      <td>https://sofifa.com/player/215408/aaron-chapman...</td>\n",
       "      <td>A. Chapman</td>\n",
       "      <td>Aaron Chapman</td>\n",
       "      <td>29</td>\n",
       "      <td>1990-05-29</td>\n",
       "      <td>203</td>\n",
       "      <td>92</td>\n",
       "      <td>England</td>\n",
       "      <td>Peterborough United</td>\n",
       "      <td>...</td>\n",
       "      <td>NaN</td>\n",
       "      <td>NaN</td>\n",
       "      <td>NaN</td>\n",
       "      <td>NaN</td>\n",
       "      <td>NaN</td>\n",
       "      <td>NaN</td>\n",
       "      <td>NaN</td>\n",
       "      <td>NaN</td>\n",
       "      <td>NaN</td>\n",
       "      <td>NaN</td>\n",
       "    </tr>\n",
       "    <tr>\n",
       "      <th>17365</th>\n",
       "      <td>241870</td>\n",
       "      <td>https://sofifa.com/player/241870/matt-casey/20...</td>\n",
       "      <td>M. Casey</td>\n",
       "      <td>Matt Casey</td>\n",
       "      <td>19</td>\n",
       "      <td>1999-11-13</td>\n",
       "      <td>203</td>\n",
       "      <td>80</td>\n",
       "      <td>England</td>\n",
       "      <td>Portsmouth</td>\n",
       "      <td>...</td>\n",
       "      <td>47+2</td>\n",
       "      <td>48+2</td>\n",
       "      <td>48+2</td>\n",
       "      <td>48+2</td>\n",
       "      <td>47+2</td>\n",
       "      <td>49+2</td>\n",
       "      <td>53+2</td>\n",
       "      <td>53+2</td>\n",
       "      <td>53+2</td>\n",
       "      <td>49+2</td>\n",
       "    </tr>\n",
       "    <tr>\n",
       "      <th>3014</th>\n",
       "      <td>172203</td>\n",
       "      <td>https://sofifa.com/player/172203/fraser-forste...</td>\n",
       "      <td>F. Forster</td>\n",
       "      <td>Fraser Forster</td>\n",
       "      <td>31</td>\n",
       "      <td>1988-03-17</td>\n",
       "      <td>201</td>\n",
       "      <td>93</td>\n",
       "      <td>England</td>\n",
       "      <td>Southampton</td>\n",
       "      <td>...</td>\n",
       "      <td>NaN</td>\n",
       "      <td>NaN</td>\n",
       "      <td>NaN</td>\n",
       "      <td>NaN</td>\n",
       "      <td>NaN</td>\n",
       "      <td>NaN</td>\n",
       "      <td>NaN</td>\n",
       "      <td>NaN</td>\n",
       "      <td>NaN</td>\n",
       "      <td>NaN</td>\n",
       "    </tr>\n",
       "    <tr>\n",
       "      <th>628</th>\n",
       "      <td>203841</td>\n",
       "      <td>https://sofifa.com/player/203841/nick-pope/20/...</td>\n",
       "      <td>N. Pope</td>\n",
       "      <td>Nick Pope</td>\n",
       "      <td>27</td>\n",
       "      <td>1992-04-19</td>\n",
       "      <td>200</td>\n",
       "      <td>76</td>\n",
       "      <td>England</td>\n",
       "      <td>Burnley</td>\n",
       "      <td>...</td>\n",
       "      <td>NaN</td>\n",
       "      <td>NaN</td>\n",
       "      <td>NaN</td>\n",
       "      <td>NaN</td>\n",
       "      <td>NaN</td>\n",
       "      <td>NaN</td>\n",
       "      <td>NaN</td>\n",
       "      <td>NaN</td>\n",
       "      <td>NaN</td>\n",
       "      <td>NaN</td>\n",
       "    </tr>\n",
       "    <tr>\n",
       "      <th>11526</th>\n",
       "      <td>223069</td>\n",
       "      <td>https://sofifa.com/player/223069/omar-sowunmi/...</td>\n",
       "      <td>O. Sowunmi</td>\n",
       "      <td>Omar Sowunmi</td>\n",
       "      <td>23</td>\n",
       "      <td>1995-11-07</td>\n",
       "      <td>199</td>\n",
       "      <td>93</td>\n",
       "      <td>England</td>\n",
       "      <td>Colchester United</td>\n",
       "      <td>...</td>\n",
       "      <td>54+2</td>\n",
       "      <td>54+2</td>\n",
       "      <td>54+2</td>\n",
       "      <td>54+2</td>\n",
       "      <td>54+2</td>\n",
       "      <td>57+2</td>\n",
       "      <td>62+2</td>\n",
       "      <td>62+2</td>\n",
       "      <td>62+2</td>\n",
       "      <td>57+2</td>\n",
       "    </tr>\n",
       "  </tbody>\n",
       "</table>\n",
       "<p>5 rows × 104 columns</p>\n",
       "</div>"
      ],
      "text/plain": [
       "       sofifa_id                                         player_url  \\\n",
       "12808     215408  https://sofifa.com/player/215408/aaron-chapman...   \n",
       "17365     241870  https://sofifa.com/player/241870/matt-casey/20...   \n",
       "3014      172203  https://sofifa.com/player/172203/fraser-forste...   \n",
       "628       203841  https://sofifa.com/player/203841/nick-pope/20/...   \n",
       "11526     223069  https://sofifa.com/player/223069/omar-sowunmi/...   \n",
       "\n",
       "       short_name       long_name  age         dob  height_cm  weight_kg  \\\n",
       "12808  A. Chapman   Aaron Chapman   29  1990-05-29        203         92   \n",
       "17365    M. Casey      Matt Casey   19  1999-11-13        203         80   \n",
       "3014   F. Forster  Fraser Forster   31  1988-03-17        201         93   \n",
       "628       N. Pope       Nick Pope   27  1992-04-19        200         76   \n",
       "11526  O. Sowunmi    Omar Sowunmi   23  1995-11-07        199         93   \n",
       "\n",
       "      nationality                 club  ...   lwb   ldm   cdm   rdm   rwb  \\\n",
       "12808     England  Peterborough United  ...   NaN   NaN   NaN   NaN   NaN   \n",
       "17365     England           Portsmouth  ...  47+2  48+2  48+2  48+2  47+2   \n",
       "3014      England          Southampton  ...   NaN   NaN   NaN   NaN   NaN   \n",
       "628       England              Burnley  ...   NaN   NaN   NaN   NaN   NaN   \n",
       "11526     England    Colchester United  ...  54+2  54+2  54+2  54+2  54+2   \n",
       "\n",
       "         lb   lcb    cb   rcb    rb  \n",
       "12808   NaN   NaN   NaN   NaN   NaN  \n",
       "17365  49+2  53+2  53+2  53+2  49+2  \n",
       "3014    NaN   NaN   NaN   NaN   NaN  \n",
       "628     NaN   NaN   NaN   NaN   NaN  \n",
       "11526  57+2  62+2  62+2  62+2  57+2  \n",
       "\n",
       "[5 rows x 104 columns]"
      ]
     },
     "execution_count": 10,
     "metadata": {},
     "output_type": "execute_result"
    }
   ],
   "source": [
    "England = fifa[fifa['nationality']=='England']\n",
    "England.sort_values(by=['height_cm'],ascending=False).head()"
   ]
  }
 ],
 "metadata": {
  "kernelspec": {
   "display_name": "Python 3 (ipykernel)",
   "language": "python",
   "name": "python3"
  },
  "language_info": {
   "codemirror_mode": {
    "name": "ipython",
    "version": 3
   },
   "file_extension": ".py",
   "mimetype": "text/x-python",
   "name": "python",
   "nbconvert_exporter": "python",
   "pygments_lexer": "ipython3",
   "version": "3.9.12"
  }
 },
 "nbformat": 4,
 "nbformat_minor": 5
}
